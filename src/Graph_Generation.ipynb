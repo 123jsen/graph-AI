{
  "cells": [
    {
      "cell_type": "markdown",
      "metadata": {},
      "source": [
        "#### Imports and Defining Constants"
      ]
    },
    {
      "cell_type": "code",
      "execution_count": 57,
      "metadata": {
        "id": "5XyxhIYMsFBA"
      },
      "outputs": [],
      "source": [
        "import numpy as np\n",
        "import random"
      ]
    },
    {
      "cell_type": "code",
      "execution_count": 58,
      "metadata": {
        "id": "r3Tggy-srui2"
      },
      "outputs": [],
      "source": [
        "MAX_SIZE = 64"
      ]
    },
    {
      "cell_type": "markdown",
      "metadata": {},
      "source": [
        "#### Basic Graph Structure\n",
        "Our graph is undirected and will have 0-63 nodes, and the adjacency matrix use random rows for the n nodes. We will not have self loops.\n",
        "A graph with n nodes can have at most n(n-1)/2 edges, and we will use a random number from 0 to n(n-1)/2 for the number of edges"
      ]
    },
    {
      "cell_type": "code",
      "execution_count": 59,
      "metadata": {
        "id": "uNjE6GrtsaV2"
      },
      "outputs": [],
      "source": [
        "graph_size = random.randrange(MAX_SIZE)\n",
        "graph_nodes = random.choices(range(MAX_SIZE), k = graph_size)"
      ]
    },
    {
      "cell_type": "code",
      "execution_count": 60,
      "metadata": {},
      "outputs": [],
      "source": [
        "edges_num = random.randrange(int(graph_size*(graph_size-1)/2))"
      ]
    },
    {
      "cell_type": "code",
      "execution_count": 61,
      "metadata": {},
      "outputs": [
        {
          "data": {
            "text/plain": [
              "(46,\n",
              " 775,\n",
              " [54,\n",
              "  25,\n",
              "  1,\n",
              "  60,\n",
              "  37,\n",
              "  4,\n",
              "  52,\n",
              "  11,\n",
              "  23,\n",
              "  46,\n",
              "  51,\n",
              "  35,\n",
              "  39,\n",
              "  8,\n",
              "  4,\n",
              "  1,\n",
              "  51,\n",
              "  9,\n",
              "  37,\n",
              "  29,\n",
              "  29,\n",
              "  59,\n",
              "  48,\n",
              "  48,\n",
              "  46,\n",
              "  60,\n",
              "  34,\n",
              "  2,\n",
              "  20,\n",
              "  38,\n",
              "  17,\n",
              "  37,\n",
              "  26,\n",
              "  37,\n",
              "  59,\n",
              "  49,\n",
              "  12,\n",
              "  15,\n",
              "  26,\n",
              "  22,\n",
              "  27,\n",
              "  0,\n",
              "  12,\n",
              "  9,\n",
              "  19,\n",
              "  38])"
            ]
          },
          "execution_count": 61,
          "metadata": {},
          "output_type": "execute_result"
        }
      ],
      "source": [
        "(graph_size, edges_num, graph_nodes)"
      ]
    },
    {
      "cell_type": "markdown",
      "metadata": {},
      "source": [
        "#### Creating Edges"
      ]
    },
    {
      "cell_type": "code",
      "execution_count": 62,
      "metadata": {},
      "outputs": [],
      "source": [
        "adj_matrix = np.zeros((MAX_SIZE, MAX_SIZE))\n",
        "for n in range(edges_num):\n",
        "    (x, y) = random.choices(graph_nodes, k=2)\n",
        "    if (x != y):\n",
        "        adj_matrix[x, y] = 1\n",
        "        adj_matrix[y, x] = 1"
      ]
    },
    {
      "cell_type": "code",
      "execution_count": 63,
      "metadata": {},
      "outputs": [
        {
          "data": {
            "text/plain": [
              "344.0"
            ]
          },
          "execution_count": 63,
          "metadata": {},
          "output_type": "execute_result"
        }
      ],
      "source": [
        "# Actual edges count\n",
        "np.count_nonzero(adj_matrix)/2"
      ]
    },
    {
      "cell_type": "code",
      "execution_count": 64,
      "metadata": {},
      "outputs": [
        {
          "name": "stdout",
          "output_type": "stream",
          "text": [
            "[]\n"
          ]
        }
      ],
      "source": [
        "# Orphan Nodes list\n",
        "orphan_list = []\n",
        "\n",
        "for node in graph_nodes:\n",
        "    # Check if matrix row is empty\n",
        "    if (np.count_nonzero(adj_matrix[node]) == 0):\n",
        "        orphan_list.append(node)\n",
        "    \n",
        "print(orphan_list)"
      ]
    }
  ],
  "metadata": {
    "colab": {
      "name": "Graph Generation.ipynb",
      "provenance": []
    },
    "interpreter": {
      "hash": "369f2c481f4da34e4445cda3fffd2e751bd1c4d706f27375911949ba6bb62e1c"
    },
    "kernelspec": {
      "display_name": "Python 3.10.4 64-bit",
      "language": "python",
      "name": "python3"
    },
    "language_info": {
      "codemirror_mode": {
        "name": "ipython",
        "version": 3
      },
      "file_extension": ".py",
      "mimetype": "text/x-python",
      "name": "python",
      "nbconvert_exporter": "python",
      "pygments_lexer": "ipython3",
      "version": "3.10.4"
    }
  },
  "nbformat": 4,
  "nbformat_minor": 0
}
