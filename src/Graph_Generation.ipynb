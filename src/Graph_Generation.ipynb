{
  "cells": [
    {
      "cell_type": "markdown",
      "metadata": {},
      "source": [
        "#### Imports and Defining Constants"
      ]
    },
    {
      "cell_type": "code",
      "execution_count": 1,
      "metadata": {
        "id": "5XyxhIYMsFBA"
      },
      "outputs": [],
      "source": [
        "import numpy as np\n",
        "import random"
      ]
    },
    {
      "cell_type": "code",
      "execution_count": 2,
      "metadata": {
        "id": "r3Tggy-srui2"
      },
      "outputs": [],
      "source": [
        "MAX_SIZE = 64"
      ]
    },
    {
      "cell_type": "markdown",
      "metadata": {},
      "source": [
        "#### Basic Graph Structure\n",
        "Our graph is undirected and will have 0-63 nodes, and the adjacency matrix use random rows for the n nodes. We will not have self loops.\n",
        "A graph with n nodes can have at most n(n-1)/2 edges, and we will use a random number from 0 to n(n-1)/2 for the number of edges"
      ]
    },
    {
      "cell_type": "code",
      "execution_count": 3,
      "metadata": {
        "id": "uNjE6GrtsaV2"
      },
      "outputs": [],
      "source": [
        "graph_size = random.randrange(MAX_SIZE)\n",
        "graph_nodes = random.choices(range(MAX_SIZE), k = graph_size)"
      ]
    },
    {
      "cell_type": "code",
      "execution_count": 4,
      "metadata": {},
      "outputs": [],
      "source": [
        "edges_num = random.randrange(int(graph_size*(graph_size-1)/2))"
      ]
    },
    {
      "cell_type": "code",
      "execution_count": 5,
      "metadata": {},
      "outputs": [
        {
          "data": {
            "text/plain": [
              "(21,\n",
              " [40,\n",
              "  52,\n",
              "  11,\n",
              "  47,\n",
              "  41,\n",
              "  24,\n",
              "  62,\n",
              "  26,\n",
              "  6,\n",
              "  43,\n",
              "  17,\n",
              "  27,\n",
              "  17,\n",
              "  8,\n",
              "  26,\n",
              "  52,\n",
              "  29,\n",
              "  30,\n",
              "  46,\n",
              "  45,\n",
              "  35],\n",
              " 14)"
            ]
          },
          "execution_count": 5,
          "metadata": {},
          "output_type": "execute_result"
        }
      ],
      "source": [
        "(graph_size, edges_num, graph_nodes)"
      ]
    },
    {
      "cell_type": "markdown",
      "metadata": {},
      "source": [
        "#### Creating Edges"
      ]
    },
    {
      "cell_type": "code",
      "execution_count": 6,
      "metadata": {},
      "outputs": [],
      "source": [
        "adj_matrix = np.zeros((MAX_SIZE, MAX_SIZE))\n",
        "for n in range(edges_num):\n",
        "    (x, y) = random.choices(graph_nodes, k=2)\n",
        "    if (x != y):\n",
        "        adj_matrix[x, y] = 1\n",
        "        adj_matrix[y, x] = 1"
      ]
    },
    {
      "cell_type": "code",
      "execution_count": 7,
      "metadata": {},
      "outputs": [
        {
          "data": {
            "text/plain": [
              "13.0"
            ]
          },
          "execution_count": 7,
          "metadata": {},
          "output_type": "execute_result"
        }
      ],
      "source": [
        "# Actual edges count\n",
        "np.count_nonzero(adj_matrix)/2"
      ]
    },
    {
      "cell_type": "code",
      "execution_count": null,
      "metadata": {},
      "outputs": [],
      "source": []
    }
  ],
  "metadata": {
    "colab": {
      "name": "Graph Generation.ipynb",
      "provenance": []
    },
    "interpreter": {
      "hash": "369f2c481f4da34e4445cda3fffd2e751bd1c4d706f27375911949ba6bb62e1c"
    },
    "kernelspec": {
      "display_name": "Python 3.10.4 64-bit",
      "language": "python",
      "name": "python3"
    },
    "language_info": {
      "codemirror_mode": {
        "name": "ipython",
        "version": 3
      },
      "file_extension": ".py",
      "mimetype": "text/x-python",
      "name": "python",
      "nbconvert_exporter": "python",
      "pygments_lexer": "ipython3",
      "version": "3.10.4"
    }
  },
  "nbformat": 4,
  "nbformat_minor": 0
}
