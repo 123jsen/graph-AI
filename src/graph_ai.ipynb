{
 "cells": [
  {
   "cell_type": "markdown",
   "metadata": {},
   "source": [
    "#### Graph AI to Count the Number of Nodes\n",
    "Note that this is not really a graph AI, as it does not learn a graph by reading nodes and surrounding neighbours.\n",
    "Structure of this notebook is a reference to https://github.com/the-deep-learners/deep-learning-illustrated"
   ]
  },
  {
   "cell_type": "code",
   "execution_count": 1,
   "metadata": {},
   "outputs": [],
   "source": [
    "import json\n",
    "import numpy as np"
   ]
  },
  {
   "cell_type": "code",
   "execution_count": 44,
   "metadata": {},
   "outputs": [],
   "source": [
    "import keras\n",
    "from keras.models import Sequential\n",
    "from keras.layers import Dense, Dropout \n",
    "from keras.layers import BatchNormalization "
   ]
  },
  {
   "cell_type": "code",
   "execution_count": 3,
   "metadata": {},
   "outputs": [],
   "source": [
    "data_path = '../data/cycle_data.json'"
   ]
  },
  {
   "cell_type": "code",
   "execution_count": 4,
   "metadata": {},
   "outputs": [],
   "source": [
    "input_file = open(data_path)\n",
    "graph_data = json.load(input_file)\n",
    "input_file.close()"
   ]
  },
  {
   "cell_type": "code",
   "execution_count": 5,
   "metadata": {},
   "outputs": [],
   "source": [
    "x_train = np.asarray(graph_data['x_train'])\n",
    "y_train = np.asarray(graph_data['y_train'])\n",
    "x_valid = np.asarray(graph_data['x_valid'])\n",
    "y_valid = np.asarray(graph_data['y_valid'])"
   ]
  },
  {
   "cell_type": "code",
   "execution_count": 6,
   "metadata": {},
   "outputs": [
    {
     "data": {
      "text/plain": [
       "((10000, 64, 64), (10000,))"
      ]
     },
     "execution_count": 6,
     "metadata": {},
     "output_type": "execute_result"
    }
   ],
   "source": [
    "(x_train.shape, y_train.shape)"
   ]
  },
  {
   "cell_type": "code",
   "execution_count": 8,
   "metadata": {},
   "outputs": [],
   "source": [
    "x_train = x_train.reshape(10000, 4096).astype('float32')\n",
    "x_valid = x_valid.reshape(2000, 4096).astype('float32')"
   ]
  },
  {
   "cell_type": "code",
   "execution_count": 45,
   "metadata": {},
   "outputs": [],
   "source": [
    "n_classes = 2\n",
    "y_train = keras.utils.to_categorical(y_train, n_classes)\n",
    "y_valid = keras.utils.to_categorical(y_valid, n_classes)"
   ]
  },
  {
   "cell_type": "code",
   "execution_count": 46,
   "metadata": {},
   "outputs": [
    {
     "data": {
      "text/plain": [
       "((10000, 4096), (10000, 2))"
      ]
     },
     "execution_count": 46,
     "metadata": {},
     "output_type": "execute_result"
    }
   ],
   "source": [
    "(x_train.shape, y_train.shape)"
   ]
  },
  {
   "cell_type": "code",
   "execution_count": 47,
   "metadata": {},
   "outputs": [
    {
     "data": {
      "text/plain": [
       "array([0., 0., 0., ..., 0., 0., 0.], dtype=float32)"
      ]
     },
     "execution_count": 47,
     "metadata": {},
     "output_type": "execute_result"
    }
   ],
   "source": [
    "x_train[5000]"
   ]
  },
  {
   "cell_type": "code",
   "execution_count": 48,
   "metadata": {},
   "outputs": [
    {
     "data": {
      "text/plain": [
       "array([1., 0.], dtype=float32)"
      ]
     },
     "execution_count": 48,
     "metadata": {},
     "output_type": "execute_result"
    }
   ],
   "source": [
    "y_train[5000]"
   ]
  },
  {
   "cell_type": "code",
   "execution_count": 53,
   "metadata": {},
   "outputs": [],
   "source": [
    "model = Sequential()\n",
    "\n",
    "model.add(Dense(128, input_dim=4096, activation='relu'))\n",
    "model.add(BatchNormalization())\n",
    "\n",
    "\n",
    "model.add(Dense(2, activation='softmax'))"
   ]
  },
  {
   "cell_type": "code",
   "execution_count": 54,
   "metadata": {},
   "outputs": [
    {
     "name": "stdout",
     "output_type": "stream",
     "text": [
      "Model: \"sequential_5\"\n",
      "_________________________________________________________________\n",
      " Layer (type)                Output Shape              Param #   \n",
      "=================================================================\n",
      " dense_14 (Dense)            (None, 128)               524416    \n",
      "                                                                 \n",
      " batch_normalization_9 (Batc  (None, 128)              512       \n",
      " hNormalization)                                                 \n",
      "                                                                 \n",
      " dense_15 (Dense)            (None, 2)                 258       \n",
      "                                                                 \n",
      "=================================================================\n",
      "Total params: 525,186\n",
      "Trainable params: 524,930\n",
      "Non-trainable params: 256\n",
      "_________________________________________________________________\n"
     ]
    }
   ],
   "source": [
    "model.summary()"
   ]
  },
  {
   "cell_type": "code",
   "execution_count": 55,
   "metadata": {},
   "outputs": [],
   "source": [
    "model.compile(loss='categorical_crossentropy', optimizer='adam', metrics=['accuracy'])"
   ]
  },
  {
   "cell_type": "code",
   "execution_count": 56,
   "metadata": {},
   "outputs": [
    {
     "name": "stdout",
     "output_type": "stream",
     "text": [
      "Epoch 1/30\n",
      "79/79 [==============================] - 1s 4ms/step - loss: 0.5480 - accuracy: 0.7767 - val_loss: 0.2729 - val_accuracy: 0.9280\n",
      "Epoch 2/30\n",
      "79/79 [==============================] - 0s 3ms/step - loss: 0.1100 - accuracy: 0.9908 - val_loss: 0.2156 - val_accuracy: 0.9290\n",
      "Epoch 3/30\n",
      "79/79 [==============================] - 0s 3ms/step - loss: 0.0300 - accuracy: 0.9997 - val_loss: 0.1916 - val_accuracy: 0.9290\n",
      "Epoch 4/30\n",
      "79/79 [==============================] - 0s 3ms/step - loss: 0.0121 - accuracy: 1.0000 - val_loss: 0.1676 - val_accuracy: 0.9290\n",
      "Epoch 5/30\n",
      "79/79 [==============================] - 0s 3ms/step - loss: 0.0067 - accuracy: 1.0000 - val_loss: 0.1223 - val_accuracy: 0.9290\n",
      "Epoch 6/30\n",
      "79/79 [==============================] - 0s 3ms/step - loss: 0.0043 - accuracy: 1.0000 - val_loss: 0.0654 - val_accuracy: 0.9290\n",
      "Epoch 7/30\n",
      "79/79 [==============================] - 0s 3ms/step - loss: 0.0030 - accuracy: 1.0000 - val_loss: 0.0308 - val_accuracy: 0.9960\n",
      "Epoch 8/30\n",
      "79/79 [==============================] - 0s 3ms/step - loss: 0.0022 - accuracy: 1.0000 - val_loss: 0.0329 - val_accuracy: 0.9855\n",
      "Epoch 9/30\n",
      "79/79 [==============================] - 0s 3ms/step - loss: 0.0017 - accuracy: 1.0000 - val_loss: 0.0517 - val_accuracy: 0.9750\n",
      "Epoch 10/30\n",
      "79/79 [==============================] - 0s 3ms/step - loss: 0.0014 - accuracy: 1.0000 - val_loss: 0.0676 - val_accuracy: 0.9735\n",
      "Epoch 11/30\n",
      "79/79 [==============================] - 0s 3ms/step - loss: 0.0011 - accuracy: 1.0000 - val_loss: 0.0804 - val_accuracy: 0.9710\n",
      "Epoch 12/30\n",
      "79/79 [==============================] - 0s 3ms/step - loss: 8.9950e-04 - accuracy: 1.0000 - val_loss: 0.0877 - val_accuracy: 0.9705\n",
      "Epoch 13/30\n",
      "79/79 [==============================] - 0s 3ms/step - loss: 7.6492e-04 - accuracy: 1.0000 - val_loss: 0.0921 - val_accuracy: 0.9705\n",
      "Epoch 14/30\n",
      "79/79 [==============================] - 0s 3ms/step - loss: 6.4886e-04 - accuracy: 1.0000 - val_loss: 0.0977 - val_accuracy: 0.9690\n",
      "Epoch 15/30\n",
      "79/79 [==============================] - 0s 3ms/step - loss: 5.5458e-04 - accuracy: 1.0000 - val_loss: 0.0999 - val_accuracy: 0.9685\n",
      "Epoch 16/30\n",
      "79/79 [==============================] - 0s 3ms/step - loss: 4.9598e-04 - accuracy: 1.0000 - val_loss: 0.1019 - val_accuracy: 0.9685\n",
      "Epoch 17/30\n",
      "79/79 [==============================] - 0s 3ms/step - loss: 4.3178e-04 - accuracy: 1.0000 - val_loss: 0.1050 - val_accuracy: 0.9680\n",
      "Epoch 18/30\n",
      "79/79 [==============================] - 0s 3ms/step - loss: 3.9174e-04 - accuracy: 1.0000 - val_loss: 0.1060 - val_accuracy: 0.9680\n",
      "Epoch 19/30\n",
      "79/79 [==============================] - 0s 3ms/step - loss: 3.3440e-04 - accuracy: 1.0000 - val_loss: 0.1097 - val_accuracy: 0.9680\n",
      "Epoch 20/30\n",
      "79/79 [==============================] - 0s 3ms/step - loss: 3.0357e-04 - accuracy: 1.0000 - val_loss: 0.1109 - val_accuracy: 0.9680\n",
      "Epoch 21/30\n",
      "79/79 [==============================] - 0s 3ms/step - loss: 2.6549e-04 - accuracy: 1.0000 - val_loss: 0.1134 - val_accuracy: 0.9680\n",
      "Epoch 22/30\n",
      "79/79 [==============================] - 0s 3ms/step - loss: 2.4856e-04 - accuracy: 1.0000 - val_loss: 0.1142 - val_accuracy: 0.9675\n",
      "Epoch 23/30\n",
      "79/79 [==============================] - 0s 3ms/step - loss: 2.2846e-04 - accuracy: 1.0000 - val_loss: 0.1182 - val_accuracy: 0.9665\n",
      "Epoch 24/30\n",
      "79/79 [==============================] - 0s 3ms/step - loss: 2.0862e-04 - accuracy: 1.0000 - val_loss: 0.1203 - val_accuracy: 0.9665\n",
      "Epoch 25/30\n",
      "79/79 [==============================] - 0s 3ms/step - loss: 1.8264e-04 - accuracy: 1.0000 - val_loss: 0.1225 - val_accuracy: 0.9665\n",
      "Epoch 26/30\n",
      "79/79 [==============================] - 0s 3ms/step - loss: 1.7453e-04 - accuracy: 1.0000 - val_loss: 0.1220 - val_accuracy: 0.9665\n",
      "Epoch 27/30\n",
      "79/79 [==============================] - 0s 3ms/step - loss: 1.5153e-04 - accuracy: 1.0000 - val_loss: 0.1234 - val_accuracy: 0.9665\n",
      "Epoch 28/30\n",
      "79/79 [==============================] - 0s 3ms/step - loss: 1.4009e-04 - accuracy: 1.0000 - val_loss: 0.1257 - val_accuracy: 0.9665\n",
      "Epoch 29/30\n",
      "79/79 [==============================] - 0s 3ms/step - loss: 1.2711e-04 - accuracy: 1.0000 - val_loss: 0.1274 - val_accuracy: 0.9665\n",
      "Epoch 30/30\n",
      "79/79 [==============================] - 0s 3ms/step - loss: 1.2186e-04 - accuracy: 1.0000 - val_loss: 0.1305 - val_accuracy: 0.9660\n"
     ]
    },
    {
     "data": {
      "text/plain": [
       "<keras.callbacks.History at 0x1d4f325cca0>"
      ]
     },
     "execution_count": 56,
     "metadata": {},
     "output_type": "execute_result"
    }
   ],
   "source": [
    "model.fit(x_train, y_train,\n",
    "          batch_size=128, epochs=30, verbose=1,\n",
    "          validation_data=(x_valid, y_valid))"
   ]
  },
  {
   "cell_type": "code",
   "execution_count": 62,
   "metadata": {},
   "outputs": [
    {
     "data": {
      "text/plain": [
       "array([[0., 1.],\n",
       "       [0., 1.],\n",
       "       [0., 1.],\n",
       "       [0., 1.],\n",
       "       [0., 1.],\n",
       "       [0., 1.],\n",
       "       [0., 1.],\n",
       "       [0., 1.],\n",
       "       [0., 1.],\n",
       "       [0., 1.],\n",
       "       [0., 1.],\n",
       "       [0., 1.],\n",
       "       [0., 1.],\n",
       "       [0., 1.],\n",
       "       [0., 1.],\n",
       "       [0., 1.],\n",
       "       [0., 1.],\n",
       "       [0., 1.],\n",
       "       [0., 1.],\n",
       "       [1., 0.],\n",
       "       [0., 1.],\n",
       "       [0., 1.],\n",
       "       [0., 1.],\n",
       "       [0., 1.],\n",
       "       [0., 1.],\n",
       "       [0., 1.],\n",
       "       [0., 1.],\n",
       "       [0., 1.],\n",
       "       [0., 1.],\n",
       "       [0., 1.],\n",
       "       [0., 1.],\n",
       "       [0., 1.],\n",
       "       [1., 0.],\n",
       "       [0., 1.],\n",
       "       [0., 1.],\n",
       "       [0., 1.],\n",
       "       [0., 1.],\n",
       "       [0., 1.],\n",
       "       [0., 1.],\n",
       "       [0., 1.],\n",
       "       [0., 1.],\n",
       "       [0., 1.],\n",
       "       [0., 1.],\n",
       "       [0., 1.],\n",
       "       [0., 1.],\n",
       "       [0., 1.],\n",
       "       [0., 1.],\n",
       "       [0., 1.],\n",
       "       [0., 1.],\n",
       "       [0., 1.],\n",
       "       [0., 1.],\n",
       "       [0., 1.],\n",
       "       [0., 1.],\n",
       "       [0., 1.],\n",
       "       [0., 1.],\n",
       "       [0., 1.],\n",
       "       [0., 1.],\n",
       "       [0., 1.],\n",
       "       [0., 1.],\n",
       "       [0., 1.],\n",
       "       [0., 1.],\n",
       "       [0., 1.],\n",
       "       [0., 1.],\n",
       "       [0., 1.],\n",
       "       [1., 0.],\n",
       "       [0., 1.],\n",
       "       [0., 1.],\n",
       "       [0., 1.],\n",
       "       [0., 1.],\n",
       "       [0., 1.],\n",
       "       [0., 1.],\n",
       "       [0., 1.],\n",
       "       [0., 1.],\n",
       "       [0., 1.],\n",
       "       [0., 1.],\n",
       "       [0., 1.],\n",
       "       [0., 1.],\n",
       "       [0., 1.],\n",
       "       [0., 1.],\n",
       "       [1., 0.],\n",
       "       [0., 1.],\n",
       "       [0., 1.],\n",
       "       [0., 1.],\n",
       "       [0., 1.],\n",
       "       [0., 1.],\n",
       "       [0., 1.],\n",
       "       [0., 1.],\n",
       "       [0., 1.],\n",
       "       [0., 1.],\n",
       "       [0., 1.],\n",
       "       [0., 1.],\n",
       "       [0., 1.],\n",
       "       [0., 1.],\n",
       "       [1., 0.],\n",
       "       [0., 1.],\n",
       "       [0., 1.],\n",
       "       [0., 1.],\n",
       "       [0., 1.],\n",
       "       [0., 1.],\n",
       "       [0., 1.]], dtype=float32)"
      ]
     },
     "execution_count": 62,
     "metadata": {},
     "output_type": "execute_result"
    }
   ],
   "source": [
    "y_valid[0:100]"
   ]
  },
  {
   "cell_type": "code",
   "execution_count": 63,
   "metadata": {},
   "outputs": [
    {
     "name": "stdout",
     "output_type": "stream",
     "text": [
      "4/4 [==============================] - 0s 1000us/step\n"
     ]
    },
    {
     "data": {
      "text/plain": [
       "array([[6.23018350e-05, 9.99937654e-01],\n",
       "       [5.07724462e-06, 9.99994874e-01],\n",
       "       [7.66480589e-05, 9.99923348e-01],\n",
       "       [1.62056152e-04, 9.99837875e-01],\n",
       "       [1.85078345e-04, 9.99814928e-01],\n",
       "       [1.98970374e-04, 9.99801099e-01],\n",
       "       [1.22697670e-02, 9.87730205e-01],\n",
       "       [2.51351623e-04, 9.99748647e-01],\n",
       "       [2.29010286e-04, 9.99770939e-01],\n",
       "       [1.14707174e-04, 9.99885321e-01],\n",
       "       [1.23834252e-04, 9.99876142e-01],\n",
       "       [7.00914427e-07, 9.99999285e-01],\n",
       "       [8.18088767e-04, 9.99181926e-01],\n",
       "       [5.66741764e-05, 9.99943376e-01],\n",
       "       [9.20678722e-05, 9.99907970e-01],\n",
       "       [1.52257460e-04, 9.99847770e-01],\n",
       "       [4.01857324e-06, 9.99995947e-01],\n",
       "       [1.83375319e-04, 9.99816597e-01],\n",
       "       [1.40322954e-04, 9.99859691e-01],\n",
       "       [9.99968529e-01, 3.14418539e-05],\n",
       "       [6.94969858e-05, 9.99930501e-01],\n",
       "       [5.80783126e-05, 9.99941945e-01],\n",
       "       [1.07045867e-04, 9.99892950e-01],\n",
       "       [8.21711728e-05, 9.99917865e-01],\n",
       "       [6.30642056e-01, 3.69357944e-01],\n",
       "       [1.19956996e-04, 9.99880075e-01],\n",
       "       [2.15114778e-05, 9.99978542e-01],\n",
       "       [7.76954621e-05, 9.99922276e-01],\n",
       "       [1.16654075e-04, 9.99883294e-01],\n",
       "       [8.00679190e-05, 9.99919891e-01],\n",
       "       [6.01081520e-05, 9.99939919e-01],\n",
       "       [8.35972241e-05, 9.99916434e-01],\n",
       "       [9.99968529e-01, 3.14418539e-05],\n",
       "       [2.87460221e-04, 9.99712527e-01],\n",
       "       [9.42265469e-05, 9.99905705e-01],\n",
       "       [1.82452015e-04, 9.99817550e-01],\n",
       "       [6.65899715e-05, 9.99933362e-01],\n",
       "       [7.18507363e-05, 9.99928117e-01],\n",
       "       [4.26706276e-04, 9.99573290e-01],\n",
       "       [4.11253946e-04, 9.99588788e-01],\n",
       "       [8.09616521e-02, 9.19038355e-01],\n",
       "       [1.42546254e-04, 9.99857426e-01],\n",
       "       [6.17863334e-05, 9.99938250e-01],\n",
       "       [1.14289876e-04, 9.99885678e-01],\n",
       "       [4.29086527e-03, 9.95709062e-01],\n",
       "       [6.30991563e-05, 9.99936938e-01],\n",
       "       [8.40495467e-01, 1.59504488e-01],\n",
       "       [1.23076112e-04, 9.99876857e-01],\n",
       "       [1.15983588e-04, 9.99884009e-01],\n",
       "       [2.04082477e-04, 9.99795973e-01],\n",
       "       [9.89557011e-05, 9.99901056e-01],\n",
       "       [1.58869487e-04, 9.99841094e-01],\n",
       "       [3.16879377e-05, 9.99968290e-01],\n",
       "       [1.10001138e-05, 9.99989033e-01],\n",
       "       [1.32686444e-04, 9.99867320e-01],\n",
       "       [1.36005736e-04, 9.99863982e-01],\n",
       "       [1.71347405e-03, 9.98286545e-01],\n",
       "       [1.22333382e-04, 9.99877691e-01],\n",
       "       [1.77705326e-04, 9.99822319e-01],\n",
       "       [1.31810768e-04, 9.99868155e-01],\n",
       "       [1.71819847e-05, 9.99982834e-01],\n",
       "       [1.31550594e-04, 9.99868393e-01],\n",
       "       [1.25858132e-04, 9.99874115e-01],\n",
       "       [1.55832662e-04, 9.99844193e-01],\n",
       "       [9.99968529e-01, 3.14418539e-05],\n",
       "       [2.85583839e-04, 9.99714434e-01],\n",
       "       [3.09760544e-05, 9.99969006e-01],\n",
       "       [2.21702576e-05, 9.99977827e-01],\n",
       "       [1.96224195e-04, 9.99803841e-01],\n",
       "       [1.51418455e-04, 9.99848604e-01],\n",
       "       [7.36411093e-05, 9.99926329e-01],\n",
       "       [8.70062649e-05, 9.99912977e-01],\n",
       "       [5.46991250e-05, 9.99945283e-01],\n",
       "       [1.39937591e-04, 9.99860048e-01],\n",
       "       [9.01367784e-01, 9.86321941e-02],\n",
       "       [1.73476492e-05, 9.99982595e-01],\n",
       "       [7.24659039e-05, 9.99927521e-01],\n",
       "       [1.05869527e-04, 9.99894142e-01],\n",
       "       [2.44506577e-04, 9.99755442e-01],\n",
       "       [9.99968529e-01, 3.14418539e-05],\n",
       "       [4.83760814e-05, 9.99951601e-01],\n",
       "       [1.49050655e-04, 9.99850869e-01],\n",
       "       [2.95370264e-04, 9.99704659e-01],\n",
       "       [9.98194158e-01, 1.80583075e-03],\n",
       "       [8.28686552e-06, 9.99991655e-01],\n",
       "       [1.72744112e-04, 9.99827325e-01],\n",
       "       [1.65623074e-04, 9.99834299e-01],\n",
       "       [1.61233096e-04, 9.99838710e-01],\n",
       "       [2.20765651e-04, 9.99779284e-01],\n",
       "       [1.47960745e-04, 9.99852061e-01],\n",
       "       [7.04641498e-05, 9.99929547e-01],\n",
       "       [8.79363797e-05, 9.99912024e-01],\n",
       "       [7.41736512e-05, 9.99925852e-01],\n",
       "       [9.99968529e-01, 3.14418539e-05],\n",
       "       [2.83670233e-05, 9.99971628e-01],\n",
       "       [2.97705177e-04, 9.99702275e-01],\n",
       "       [4.87132820e-05, 9.99951243e-01],\n",
       "       [7.14949929e-05, 9.99928474e-01],\n",
       "       [5.04071359e-04, 9.99495864e-01],\n",
       "       [9.94785922e-04, 9.99005258e-01]], dtype=float32)"
      ]
     },
     "execution_count": 63,
     "metadata": {},
     "output_type": "execute_result"
    }
   ],
   "source": [
    "model.predict(np.reshape(x_valid[0:100], [100, 4096]))"
   ]
  },
  {
   "cell_type": "code",
   "execution_count": null,
   "metadata": {},
   "outputs": [],
   "source": []
  }
 ],
 "metadata": {
  "interpreter": {
   "hash": "369f2c481f4da34e4445cda3fffd2e751bd1c4d706f27375911949ba6bb62e1c"
  },
  "kernelspec": {
   "display_name": "Python 3.10.4 64-bit",
   "language": "python",
   "name": "python3"
  },
  "language_info": {
   "codemirror_mode": {
    "name": "ipython",
    "version": 3
   },
   "file_extension": ".py",
   "mimetype": "text/x-python",
   "name": "python",
   "nbconvert_exporter": "python",
   "pygments_lexer": "ipython3",
   "version": "3.10.4"
  },
  "orig_nbformat": 4
 },
 "nbformat": 4,
 "nbformat_minor": 2
}
