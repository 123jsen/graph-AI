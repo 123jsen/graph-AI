{
 "cells": [
  {
   "cell_type": "markdown",
   "metadata": {},
   "source": [
    "#### Graph AI to Count the Number of Nodes\n",
    "Note that this is not really a graph AI, as it does not learn a graph by reading nodes and surrounding neighbours.\n",
    "Structure of this notebook is a reference to https://github.com/the-deep-learners/deep-learning-illustrated"
   ]
  },
  {
   "cell_type": "code",
   "execution_count": 87,
   "metadata": {},
   "outputs": [],
   "source": [
    "import json\n",
    "import numpy as np"
   ]
  },
  {
   "cell_type": "code",
   "execution_count": 88,
   "metadata": {},
   "outputs": [],
   "source": [
    "from keras.models import Sequential\n",
    "from keras.layers import Dense, Dropout \n",
    "from keras.layers import BatchNormalization "
   ]
  },
  {
   "cell_type": "code",
   "execution_count": 89,
   "metadata": {},
   "outputs": [],
   "source": [
    "data_path = '../data/edge_data.json'"
   ]
  },
  {
   "cell_type": "code",
   "execution_count": 90,
   "metadata": {},
   "outputs": [],
   "source": [
    "input_file = open(data_path)\n",
    "graph_data = json.load(input_file)\n",
    "input_file.close()"
   ]
  },
  {
   "cell_type": "code",
   "execution_count": 91,
   "metadata": {},
   "outputs": [],
   "source": [
    "x_train = np.asarray(graph_data['x_train'])\n",
    "y_train = np.asarray(graph_data['y_train'])\n",
    "x_valid = np.asarray(graph_data['x_valid'])\n",
    "y_valid = np.asarray(graph_data['y_valid'])"
   ]
  },
  {
   "cell_type": "code",
   "execution_count": 92,
   "metadata": {},
   "outputs": [
    {
     "data": {
      "text/plain": [
       "((10000, 64, 64), (10000,))"
      ]
     },
     "execution_count": 92,
     "metadata": {},
     "output_type": "execute_result"
    }
   ],
   "source": [
    "(x_train.shape, y_train.shape)"
   ]
  },
  {
   "cell_type": "code",
   "execution_count": 93,
   "metadata": {},
   "outputs": [],
   "source": [
    "x_train = x_train.reshape(10000, 4096).astype('float32')\n",
    "x_valid = x_valid.reshape(2000, 4096).astype('float32')"
   ]
  },
  {
   "cell_type": "code",
   "execution_count": 94,
   "metadata": {},
   "outputs": [
    {
     "data": {
      "text/plain": [
       "((10000, 4096), (10000,))"
      ]
     },
     "execution_count": 94,
     "metadata": {},
     "output_type": "execute_result"
    }
   ],
   "source": [
    "(x_train.shape, y_train.shape)"
   ]
  },
  {
   "cell_type": "code",
   "execution_count": 97,
   "metadata": {},
   "outputs": [],
   "source": [
    "model = Sequential()\n",
    "\n",
    "model.add(Dense(1, input_dim=4096, activation='linear'))"
   ]
  },
  {
   "cell_type": "code",
   "execution_count": 98,
   "metadata": {},
   "outputs": [
    {
     "name": "stdout",
     "output_type": "stream",
     "text": [
      "Model: \"sequential_8\"\n",
      "_________________________________________________________________\n",
      " Layer (type)                Output Shape              Param #   \n",
      "=================================================================\n",
      " dense_20 (Dense)            (None, 1)                 4097      \n",
      "                                                                 \n",
      "=================================================================\n",
      "Total params: 4,097\n",
      "Trainable params: 4,097\n",
      "Non-trainable params: 0\n",
      "_________________________________________________________________\n"
     ]
    }
   ],
   "source": [
    "model.summary()"
   ]
  },
  {
   "cell_type": "code",
   "execution_count": 99,
   "metadata": {},
   "outputs": [],
   "source": [
    "model.compile(loss='mean_squared_error', optimizer='adam')"
   ]
  },
  {
   "cell_type": "code",
   "execution_count": 100,
   "metadata": {},
   "outputs": [
    {
     "name": "stdout",
     "output_type": "stream",
     "text": [
      "Epoch 1/50\n",
      "79/79 [==============================] - 0s 2ms/step - loss: 46024.7930 - val_loss: 37494.0156\n",
      "Epoch 2/50\n",
      "79/79 [==============================] - 0s 1ms/step - loss: 33081.0625 - val_loss: 26606.4395\n",
      "Epoch 3/50\n",
      "79/79 [==============================] - 0s 974us/step - loss: 23195.7734 - val_loss: 18389.6172\n",
      "Epoch 4/50\n",
      "79/79 [==============================] - 0s 975us/step - loss: 15762.0859 - val_loss: 12245.8574\n",
      "Epoch 5/50\n",
      "79/79 [==============================] - 0s 974us/step - loss: 10324.8008 - val_loss: 7875.4932\n",
      "Epoch 6/50\n",
      "79/79 [==============================] - 0s 1ms/step - loss: 6542.4624 - val_loss: 4883.5317\n",
      "Epoch 7/50\n",
      "79/79 [==============================] - 0s 1ms/step - loss: 4006.7937 - val_loss: 2924.8262\n",
      "Epoch 8/50\n",
      "79/79 [==============================] - 0s 974us/step - loss: 2350.2339 - val_loss: 1675.6957\n",
      "Epoch 9/50\n",
      "79/79 [==============================] - 0s 949us/step - loss: 1319.9698 - val_loss: 921.0071\n",
      "Epoch 10/50\n",
      "79/79 [==============================] - 0s 987us/step - loss: 709.2347 - val_loss: 479.7384\n",
      "Epoch 11/50\n",
      "79/79 [==============================] - 0s 1ms/step - loss: 364.1069 - val_loss: 239.1601\n",
      "Epoch 12/50\n",
      "79/79 [==============================] - 0s 962us/step - loss: 176.6450 - val_loss: 112.7106\n",
      "Epoch 13/50\n",
      "79/79 [==============================] - 0s 987us/step - loss: 81.9905 - val_loss: 50.9754\n",
      "Epoch 14/50\n",
      "79/79 [==============================] - 0s 962us/step - loss: 36.1407 - val_loss: 21.9599\n",
      "Epoch 15/50\n",
      "79/79 [==============================] - 0s 936us/step - loss: 15.2765 - val_loss: 9.0311\n",
      "Epoch 16/50\n",
      "79/79 [==============================] - 0s 962us/step - loss: 6.2130 - val_loss: 3.6632\n",
      "Epoch 17/50\n",
      "79/79 [==============================] - 0s 962us/step - loss: 2.5074 - val_loss: 1.5112\n",
      "Epoch 18/50\n",
      "79/79 [==============================] - 0s 974us/step - loss: 1.0834 - val_loss: 0.7122\n",
      "Epoch 19/50\n",
      "79/79 [==============================] - 0s 1000us/step - loss: 0.5629 - val_loss: 0.4347\n",
      "Epoch 20/50\n",
      "79/79 [==============================] - 0s 974us/step - loss: 0.3822 - val_loss: 0.3392\n",
      "Epoch 21/50\n",
      "79/79 [==============================] - 0s 974us/step - loss: 0.3228 - val_loss: 0.3085\n",
      "Epoch 22/50\n",
      "79/79 [==============================] - 0s 1ms/step - loss: 0.3025 - val_loss: 0.2973\n",
      "Epoch 23/50\n",
      "79/79 [==============================] - 0s 962us/step - loss: 0.2943 - val_loss: 0.2919\n",
      "Epoch 24/50\n",
      "79/79 [==============================] - 0s 962us/step - loss: 0.2895 - val_loss: 0.2880\n",
      "Epoch 25/50\n",
      "79/79 [==============================] - 0s 987us/step - loss: 0.2857 - val_loss: 0.2847\n",
      "Epoch 26/50\n",
      "79/79 [==============================] - 0s 936us/step - loss: 0.2821 - val_loss: 0.2814\n",
      "Epoch 27/50\n",
      "79/79 [==============================] - 0s 949us/step - loss: 0.2785 - val_loss: 0.2781\n",
      "Epoch 28/50\n",
      "79/79 [==============================] - 0s 962us/step - loss: 0.2750 - val_loss: 0.2749\n",
      "Epoch 29/50\n",
      "79/79 [==============================] - 0s 936us/step - loss: 0.2714 - val_loss: 0.2716\n",
      "Epoch 30/50\n",
      "79/79 [==============================] - 0s 936us/step - loss: 0.2678 - val_loss: 0.2683\n",
      "Epoch 31/50\n",
      "79/79 [==============================] - 0s 950us/step - loss: 0.2643 - val_loss: 0.2651\n",
      "Epoch 32/50\n",
      "79/79 [==============================] - 0s 962us/step - loss: 0.2607 - val_loss: 0.2618\n",
      "Epoch 33/50\n",
      "79/79 [==============================] - 0s 949us/step - loss: 0.2571 - val_loss: 0.2586\n",
      "Epoch 34/50\n",
      "79/79 [==============================] - 0s 1ms/step - loss: 0.2536 - val_loss: 0.2554\n",
      "Epoch 35/50\n",
      "79/79 [==============================] - 0s 937us/step - loss: 0.2502 - val_loss: 0.2523\n",
      "Epoch 36/50\n",
      "79/79 [==============================] - 0s 987us/step - loss: 0.2468 - val_loss: 0.2492\n",
      "Epoch 37/50\n",
      "79/79 [==============================] - 0s 962us/step - loss: 0.2434 - val_loss: 0.2461\n",
      "Epoch 38/50\n",
      "79/79 [==============================] - 0s 949us/step - loss: 0.2401 - val_loss: 0.2431\n",
      "Epoch 39/50\n",
      "79/79 [==============================] - 0s 936us/step - loss: 0.2369 - val_loss: 0.2402\n",
      "Epoch 40/50\n",
      "79/79 [==============================] - 0s 949us/step - loss: 0.2337 - val_loss: 0.2372\n",
      "Epoch 41/50\n",
      "79/79 [==============================] - 0s 962us/step - loss: 0.2305 - val_loss: 0.2344\n",
      "Epoch 42/50\n",
      "79/79 [==============================] - 0s 924us/step - loss: 0.2273 - val_loss: 0.2314\n",
      "Epoch 43/50\n",
      "79/79 [==============================] - 0s 962us/step - loss: 0.2242 - val_loss: 0.2287\n",
      "Epoch 44/50\n",
      "79/79 [==============================] - 0s 936us/step - loss: 0.2213 - val_loss: 0.2260\n",
      "Epoch 45/50\n",
      "79/79 [==============================] - 0s 949us/step - loss: 0.2184 - val_loss: 0.2233\n",
      "Epoch 46/50\n",
      "79/79 [==============================] - 0s 962us/step - loss: 0.2156 - val_loss: 0.2208\n",
      "Epoch 47/50\n",
      "79/79 [==============================] - 0s 936us/step - loss: 0.2129 - val_loss: 0.2182\n",
      "Epoch 48/50\n",
      "79/79 [==============================] - 0s 950us/step - loss: 0.2101 - val_loss: 0.2158\n",
      "Epoch 49/50\n",
      "79/79 [==============================] - 0s 949us/step - loss: 0.2075 - val_loss: 0.2133\n",
      "Epoch 50/50\n",
      "79/79 [==============================] - 0s 923us/step - loss: 0.2048 - val_loss: 0.2110\n"
     ]
    },
    {
     "data": {
      "text/plain": [
       "<keras.callbacks.History at 0x282706d1330>"
      ]
     },
     "execution_count": 100,
     "metadata": {},
     "output_type": "execute_result"
    }
   ],
   "source": [
    "model.fit(x_train, y_train,\n",
    "          batch_size=128, epochs=50, verbose=1,\n",
    "          validation_data=(x_valid, y_valid))"
   ]
  },
  {
   "cell_type": "code",
   "execution_count": 101,
   "metadata": {},
   "outputs": [
    {
     "data": {
      "text/plain": [
       "array([ 87, 104, 186,   0,  41, 275, 196, 455,  71, 408])"
      ]
     },
     "execution_count": 101,
     "metadata": {},
     "output_type": "execute_result"
    }
   ],
   "source": [
    "y_valid[0:10]"
   ]
  },
  {
   "cell_type": "code",
   "execution_count": 103,
   "metadata": {},
   "outputs": [
    {
     "name": "stdout",
     "output_type": "stream",
     "text": [
      "1/1 [==============================] - 0s 10ms/step\n"
     ]
    },
    {
     "data": {
      "text/plain": [
       "array([[ 87.19536  ],\n",
       "       [104.39629  ],\n",
       "       [185.41176  ],\n",
       "       [  0.4922566],\n",
       "       [ 41.756268 ],\n",
       "       [274.5735   ],\n",
       "       [196.4774   ],\n",
       "       [454.29828  ],\n",
       "       [ 71.38082  ],\n",
       "       [407.85406  ]], dtype=float32)"
      ]
     },
     "execution_count": 103,
     "metadata": {},
     "output_type": "execute_result"
    }
   ],
   "source": [
    "model.predict(np.reshape(x_valid[0:10], [10, 4096]))"
   ]
  },
  {
   "cell_type": "code",
   "execution_count": null,
   "metadata": {},
   "outputs": [],
   "source": []
  }
 ],
 "metadata": {
  "interpreter": {
   "hash": "369f2c481f4da34e4445cda3fffd2e751bd1c4d706f27375911949ba6bb62e1c"
  },
  "kernelspec": {
   "display_name": "Python 3.10.4 64-bit",
   "language": "python",
   "name": "python3"
  },
  "language_info": {
   "codemirror_mode": {
    "name": "ipython",
    "version": 3
   },
   "file_extension": ".py",
   "mimetype": "text/x-python",
   "name": "python",
   "nbconvert_exporter": "python",
   "pygments_lexer": "ipython3",
   "version": "3.10.4"
  },
  "orig_nbformat": 4
 },
 "nbformat": 4,
 "nbformat_minor": 2
}
