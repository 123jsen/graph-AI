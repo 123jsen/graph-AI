{
 "cells": [
  {
   "cell_type": "markdown",
   "metadata": {},
   "source": [
    "#### Graph AI to Count the Number of Nodes\n",
    "Note that this is not really a graph AI, as it does not learn a graph by reading nodes and surrounding neighbours.\n",
    "Structure of this notebook is a reference to https://github.com/the-deep-learners/deep-learning-illustrated"
   ]
  },
  {
   "cell_type": "code",
   "execution_count": 1,
   "metadata": {},
   "outputs": [],
   "source": [
    "import json\n",
    "import numpy as np"
   ]
  },
  {
   "cell_type": "code",
   "execution_count": 19,
   "metadata": {},
   "outputs": [],
   "source": [
    "from keras.models import Sequential\n",
    "from keras.layers import Dense, Dropout \n",
    "from keras.layers import BatchNormalization "
   ]
  },
  {
   "cell_type": "code",
   "execution_count": 5,
   "metadata": {},
   "outputs": [],
   "source": [
    "data_path = '../data/sample_data.json'"
   ]
  },
  {
   "cell_type": "code",
   "execution_count": 9,
   "metadata": {},
   "outputs": [],
   "source": [
    "input_file = open(data_path)\n",
    "graph_data = json.load(input_file)\n",
    "input_file.close()"
   ]
  },
  {
   "cell_type": "code",
   "execution_count": 10,
   "metadata": {},
   "outputs": [],
   "source": [
    "x_train = np.asarray(graph_data['x_train'])\n",
    "y_train = np.asarray(graph_data['y_train'])\n",
    "x_valid = np.asarray(graph_data['x_valid'])\n",
    "y_valid = np.asarray(graph_data['y_valid'])"
   ]
  },
  {
   "cell_type": "code",
   "execution_count": 15,
   "metadata": {},
   "outputs": [
    {
     "data": {
      "text/plain": [
       "((10000, 64, 64), (10000,))"
      ]
     },
     "execution_count": 15,
     "metadata": {},
     "output_type": "execute_result"
    }
   ],
   "source": [
    "(x_train.shape, y_train.shape)"
   ]
  },
  {
   "cell_type": "code",
   "execution_count": 16,
   "metadata": {},
   "outputs": [],
   "source": [
    "x_train = x_train.reshape(10000, 4096).astype('float32')\n",
    "x_valid = x_valid.reshape(2000, 4096).astype('float32')"
   ]
  },
  {
   "cell_type": "code",
   "execution_count": 17,
   "metadata": {},
   "outputs": [
    {
     "data": {
      "text/plain": [
       "((10000, 4096), (10000,))"
      ]
     },
     "execution_count": 17,
     "metadata": {},
     "output_type": "execute_result"
    }
   ],
   "source": [
    "(x_train.shape, y_train.shape)"
   ]
  },
  {
   "cell_type": "code",
   "execution_count": 52,
   "metadata": {},
   "outputs": [],
   "source": [
    "model = Sequential()\n",
    "\n",
    "model.add(Dense(32, input_dim=4096, activation='relu'))\n",
    "model.add(BatchNormalization())\n",
    "\n",
    "model.add(Dense(32, activation='relu'))\n",
    "model.add(BatchNormalization())\n",
    "model.add(Dropout(0.2))\n",
    "\n",
    "model.add(Dense(1, activation='linear'))"
   ]
  },
  {
   "cell_type": "code",
   "execution_count": 53,
   "metadata": {},
   "outputs": [
    {
     "name": "stdout",
     "output_type": "stream",
     "text": [
      "Model: \"sequential_2\"\n",
      "_________________________________________________________________\n",
      " Layer (type)                Output Shape              Param #   \n",
      "=================================================================\n",
      " dense_7 (Dense)             (None, 32)                131104    \n",
      "                                                                 \n",
      " batch_normalization_5 (Batc  (None, 32)               128       \n",
      " hNormalization)                                                 \n",
      "                                                                 \n",
      " dense_8 (Dense)             (None, 32)                1056      \n",
      "                                                                 \n",
      " batch_normalization_6 (Batc  (None, 32)               128       \n",
      " hNormalization)                                                 \n",
      "                                                                 \n",
      " dropout_2 (Dropout)         (None, 32)                0         \n",
      "                                                                 \n",
      " dense_9 (Dense)             (None, 1)                 33        \n",
      "                                                                 \n",
      "=================================================================\n",
      "Total params: 132,449\n",
      "Trainable params: 132,321\n",
      "Non-trainable params: 128\n",
      "_________________________________________________________________\n"
     ]
    }
   ],
   "source": [
    "model.summary()"
   ]
  },
  {
   "cell_type": "code",
   "execution_count": 54,
   "metadata": {},
   "outputs": [],
   "source": [
    "model.compile(loss='mean_squared_error', optimizer='adam')"
   ]
  },
  {
   "cell_type": "code",
   "execution_count": 55,
   "metadata": {},
   "outputs": [
    {
     "name": "stdout",
     "output_type": "stream",
     "text": [
      "Epoch 1/50\n",
      "79/79 [==============================] - 1s 3ms/step - loss: 1165.5590 - val_loss: 882.9099\n",
      "Epoch 2/50\n",
      "79/79 [==============================] - 0s 2ms/step - loss: 1028.1884 - val_loss: 852.9458\n",
      "Epoch 3/50\n",
      "79/79 [==============================] - 0s 2ms/step - loss: 900.0331 - val_loss: 806.1931\n",
      "Epoch 4/50\n",
      "79/79 [==============================] - 0s 2ms/step - loss: 771.4180 - val_loss: 788.1735\n",
      "Epoch 5/50\n",
      "79/79 [==============================] - 0s 2ms/step - loss: 646.5136 - val_loss: 732.5671\n",
      "Epoch 6/50\n",
      "79/79 [==============================] - 0s 2ms/step - loss: 508.0268 - val_loss: 590.9485\n",
      "Epoch 7/50\n",
      "79/79 [==============================] - 0s 2ms/step - loss: 373.0432 - val_loss: 420.7562\n",
      "Epoch 8/50\n",
      "79/79 [==============================] - 0s 2ms/step - loss: 254.2035 - val_loss: 308.3235\n",
      "Epoch 9/50\n",
      "79/79 [==============================] - 0s 2ms/step - loss: 166.5246 - val_loss: 220.2155\n",
      "Epoch 10/50\n",
      "79/79 [==============================] - 0s 2ms/step - loss: 106.0631 - val_loss: 156.5623\n",
      "Epoch 11/50\n",
      "79/79 [==============================] - 0s 2ms/step - loss: 75.3973 - val_loss: 136.0438\n",
      "Epoch 12/50\n",
      "79/79 [==============================] - 0s 2ms/step - loss: 57.3992 - val_loss: 132.1585\n",
      "Epoch 13/50\n",
      "79/79 [==============================] - 0s 2ms/step - loss: 48.6274 - val_loss: 115.7658\n",
      "Epoch 14/50\n",
      "79/79 [==============================] - 0s 2ms/step - loss: 43.6273 - val_loss: 110.7962\n",
      "Epoch 15/50\n",
      "79/79 [==============================] - 0s 2ms/step - loss: 42.5521 - val_loss: 111.2523\n",
      "Epoch 16/50\n",
      "79/79 [==============================] - 0s 2ms/step - loss: 40.1740 - val_loss: 112.0034\n",
      "Epoch 17/50\n",
      "79/79 [==============================] - 0s 2ms/step - loss: 37.5836 - val_loss: 113.6055\n",
      "Epoch 18/50\n",
      "79/79 [==============================] - 0s 2ms/step - loss: 36.6159 - val_loss: 115.5359\n",
      "Epoch 19/50\n",
      "79/79 [==============================] - 0s 2ms/step - loss: 35.3950 - val_loss: 114.3812\n",
      "Epoch 20/50\n",
      "79/79 [==============================] - 0s 2ms/step - loss: 35.1341 - val_loss: 114.6696\n",
      "Epoch 21/50\n",
      "79/79 [==============================] - 0s 2ms/step - loss: 33.2889 - val_loss: 114.1232\n",
      "Epoch 22/50\n",
      "79/79 [==============================] - 0s 2ms/step - loss: 32.6866 - val_loss: 113.4392\n",
      "Epoch 23/50\n",
      "79/79 [==============================] - 0s 2ms/step - loss: 31.5689 - val_loss: 118.3228\n",
      "Epoch 24/50\n",
      "79/79 [==============================] - 0s 2ms/step - loss: 30.7454 - val_loss: 115.2068\n",
      "Epoch 25/50\n",
      "79/79 [==============================] - 0s 2ms/step - loss: 31.0646 - val_loss: 113.1982\n",
      "Epoch 26/50\n",
      "79/79 [==============================] - 0s 2ms/step - loss: 29.7399 - val_loss: 114.9853\n",
      "Epoch 27/50\n",
      "79/79 [==============================] - 0s 2ms/step - loss: 29.3110 - val_loss: 120.2320\n",
      "Epoch 28/50\n",
      "79/79 [==============================] - 0s 2ms/step - loss: 29.2373 - val_loss: 110.5192\n",
      "Epoch 29/50\n",
      "79/79 [==============================] - 0s 2ms/step - loss: 29.1517 - val_loss: 116.4860\n",
      "Epoch 30/50\n",
      "79/79 [==============================] - 0s 2ms/step - loss: 27.5121 - val_loss: 116.3157\n",
      "Epoch 31/50\n",
      "79/79 [==============================] - 0s 2ms/step - loss: 28.8294 - val_loss: 113.9125\n",
      "Epoch 32/50\n",
      "79/79 [==============================] - 0s 2ms/step - loss: 26.5264 - val_loss: 116.1682\n",
      "Epoch 33/50\n",
      "79/79 [==============================] - 0s 2ms/step - loss: 27.1287 - val_loss: 114.4859\n",
      "Epoch 34/50\n",
      "79/79 [==============================] - 0s 2ms/step - loss: 26.6295 - val_loss: 119.3952\n",
      "Epoch 35/50\n",
      "79/79 [==============================] - 0s 2ms/step - loss: 27.3371 - val_loss: 115.5439\n",
      "Epoch 36/50\n",
      "79/79 [==============================] - 0s 2ms/step - loss: 25.4209 - val_loss: 117.1147\n",
      "Epoch 37/50\n",
      "79/79 [==============================] - 0s 2ms/step - loss: 26.9456 - val_loss: 115.7569\n",
      "Epoch 38/50\n",
      "79/79 [==============================] - 0s 2ms/step - loss: 26.0001 - val_loss: 114.9611\n",
      "Epoch 39/50\n",
      "79/79 [==============================] - 0s 2ms/step - loss: 26.4098 - val_loss: 116.0840\n",
      "Epoch 40/50\n",
      "79/79 [==============================] - 0s 2ms/step - loss: 25.6109 - val_loss: 119.1162\n",
      "Epoch 41/50\n",
      "79/79 [==============================] - 0s 2ms/step - loss: 26.7372 - val_loss: 116.7966\n",
      "Epoch 42/50\n",
      "79/79 [==============================] - 0s 2ms/step - loss: 25.6456 - val_loss: 117.0126\n",
      "Epoch 43/50\n",
      "79/79 [==============================] - 0s 2ms/step - loss: 25.5637 - val_loss: 116.1055\n",
      "Epoch 44/50\n",
      "79/79 [==============================] - 0s 2ms/step - loss: 25.2021 - val_loss: 116.6346\n",
      "Epoch 45/50\n",
      "79/79 [==============================] - 0s 2ms/step - loss: 26.4010 - val_loss: 115.6642\n",
      "Epoch 46/50\n",
      "79/79 [==============================] - 0s 2ms/step - loss: 24.9774 - val_loss: 117.0605\n",
      "Epoch 47/50\n",
      "79/79 [==============================] - 0s 2ms/step - loss: 25.0181 - val_loss: 114.9336\n",
      "Epoch 48/50\n",
      "79/79 [==============================] - 0s 2ms/step - loss: 24.9410 - val_loss: 115.2902\n",
      "Epoch 49/50\n",
      "79/79 [==============================] - 0s 2ms/step - loss: 25.3692 - val_loss: 115.2642\n",
      "Epoch 50/50\n",
      "79/79 [==============================] - 0s 2ms/step - loss: 23.5546 - val_loss: 116.9939\n"
     ]
    },
    {
     "data": {
      "text/plain": [
       "<keras.callbacks.History at 0x2827987b490>"
      ]
     },
     "execution_count": 55,
     "metadata": {},
     "output_type": "execute_result"
    }
   ],
   "source": [
    "model.fit(x_train, y_train,\n",
    "          batch_size=128, epochs=50, verbose=1,\n",
    "          validation_data=(x_valid, y_valid))"
   ]
  },
  {
   "cell_type": "code",
   "execution_count": 49,
   "metadata": {},
   "outputs": [
    {
     "data": {
      "text/plain": [
       "array([12, 43,  5, 50, 10, 63, 32, 60, 59, 21])"
      ]
     },
     "execution_count": 49,
     "metadata": {},
     "output_type": "execute_result"
    }
   ],
   "source": [
    "y_valid[0:10]"
   ]
  },
  {
   "cell_type": "code",
   "execution_count": 51,
   "metadata": {},
   "outputs": [
    {
     "name": "stdout",
     "output_type": "stream",
     "text": [
      "1/1 [==============================] - 0s 9ms/step\n"
     ]
    },
    {
     "data": {
      "text/plain": [
       "array([[ 9.719438],\n",
       "       [41.78164 ],\n",
       "       [11.06088 ],\n",
       "       [46.386166],\n",
       "       [17.206064],\n",
       "       [39.375225],\n",
       "       [39.70329 ],\n",
       "       [57.472786],\n",
       "       [45.74622 ],\n",
       "       [17.446133]], dtype=float32)"
      ]
     },
     "execution_count": 51,
     "metadata": {},
     "output_type": "execute_result"
    }
   ],
   "source": [
    "model.predict(np.reshape(x_valid[0:10], [10, 4096]))"
   ]
  }
 ],
 "metadata": {
  "interpreter": {
   "hash": "369f2c481f4da34e4445cda3fffd2e751bd1c4d706f27375911949ba6bb62e1c"
  },
  "kernelspec": {
   "display_name": "Python 3.10.4 64-bit",
   "language": "python",
   "name": "python3"
  },
  "language_info": {
   "codemirror_mode": {
    "name": "ipython",
    "version": 3
   },
   "file_extension": ".py",
   "mimetype": "text/x-python",
   "name": "python",
   "nbconvert_exporter": "python",
   "pygments_lexer": "ipython3",
   "version": "3.10.4"
  },
  "orig_nbformat": 4
 },
 "nbformat": 4,
 "nbformat_minor": 2
}
